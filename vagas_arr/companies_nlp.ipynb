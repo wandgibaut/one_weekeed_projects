{
 "metadata": {
  "language_info": {
   "codemirror_mode": {
    "name": "ipython",
    "version": 3
   },
   "file_extension": ".py",
   "mimetype": "text/x-python",
   "name": "python",
   "nbconvert_exporter": "python",
   "pygments_lexer": "ipython3",
   "version": "3.8.5"
  },
  "orig_nbformat": 4,
  "kernelspec": {
   "name": "python3",
   "display_name": "Python 3.8.5 64-bit"
  },
  "interpreter": {
   "hash": "916dbcbb3f70747c44a77c7bcd40155683ae19c65e1c03b4aa3499c5328201f1"
  }
 },
 "nbformat": 4,
 "nbformat_minor": 2,
 "cells": [
  {
   "cell_type": "code",
   "execution_count": 2,
   "metadata": {},
   "outputs": [],
   "source": [
    "import pandas as pd\n",
    "import nlp_bib as nlp"
   ]
  },
  {
   "cell_type": "code",
   "execution_count": 3,
   "metadata": {},
   "outputs": [
    {
     "output_type": "stream",
     "name": "stdout",
     "text": [
      "0\n"
     ]
    }
   ],
   "source": [
    "\n",
    "ecc = nlp.CollectiveKnowledgeExtractor('portuguese')\n",
    "companies = ['Empresa1', 'Empresa2', 'Empresa DoisNomes']\n",
    "\n",
    "for entry in nlp.get_companies_jsons(companies):\n",
    "    data = pd.read_json(entry)\n",
    "\n",
    "    cons = ''\n",
    "    for text in data['cons']:\n",
    "        cons += text + '. '\n",
    "\n",
    "    pros = ''\n",
    "    for text in data['pros']:\n",
    "        pros += text + '. '\n",
    "\n",
    "    # tokenziar as palavras entrada\n",
    "    print(entry.split('/')[-1] + '\\n')\n",
    "    in_wd = ecc.aux_preprocess(['salário', 'ambiente'])\n",
    "    try:\n",
    "        selected_sentences = ecc.full_extraction(cons, 4, 2, in_wd)\n",
    "        print(selected_sentences)\n",
    "        print('\\n')\n",
    "\n",
    "        selected_sentences = ecc.full_extraction(pros, 4, 2, in_wd)\n",
    "        print(selected_sentences)\n",
    "    except:\n",
    "        pass\n",
    "    print('\\n')\n",
    "    print('\\n')\n"
   ]
  },
  {
   "cell_type": "code",
   "execution_count": null,
   "metadata": {},
   "outputs": [],
   "source": []
  }
 ]
}