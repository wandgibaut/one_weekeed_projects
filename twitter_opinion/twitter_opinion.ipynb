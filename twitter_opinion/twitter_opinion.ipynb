{
 "metadata": {
  "language_info": {
   "codemirror_mode": {
    "name": "ipython",
    "version": 3
   },
   "file_extension": ".py",
   "mimetype": "text/x-python",
   "name": "python",
   "nbconvert_exporter": "python",
   "pygments_lexer": "ipython3",
   "version": "3.8.10"
  },
  "orig_nbformat": 4,
  "kernelspec": {
   "name": "python3",
   "display_name": "Python 3.8.10 64-bit"
  },
  "interpreter": {
   "hash": "31f2aee4e71d21fbe5cf8b01ff0e069b9275f58929596ceb00d14d90e3e16cd6"
  }
 },
 "nbformat": 4,
 "nbformat_minor": 2,
 "cells": [
  {
   "cell_type": "code",
   "execution_count": 30,
   "metadata": {},
   "outputs": [],
   "source": [
    "import pandas as pd\n",
    "import time\n",
    "import random\n",
    "import twint # module for twitter scrapping\n",
    "import nest_asyncio # module to solve notebook runtime issues. Twint would not work on a jupyter notebook without this\n",
    "\n",
    "from textblob import TextBlob # simple module to perform a sentiment analysis\n",
    "\n",
    "import nlp_bib as nlp # last project Collective Knowledge Extractor as a module\n",
    "\n",
    "\n",
    "# Solve compatibility issues with notebooks and RunTime errors.\n",
    "nest_asyncio.apply()"
   ]
  },
  {
   "cell_type": "code",
   "execution_count": 15,
   "metadata": {},
   "outputs": [],
   "source": [
    "class HiddenPrints:\n",
    "    def __enter__(self):\n",
    "        self._original_stdout = sys.stdout\n",
    "        sys.stdout = open(os.devnull, 'w')\n",
    "    def __exit__(self, exc_type, exc_val, exc_tb):\n",
    "        sys.stdout.close()\n",
    "        sys.stdout = self._original_stdout\n",
    "\n",
    "\n",
    "def twint_to_pandas(columns):\n",
    "    return twint.output.panda.Tweets_df[columns]\n",
    "\n",
    "# Function to get sentiment \n",
    "def apply_blob(sentence):\n",
    "    temp = TextBlob(sentence)\n",
    "    \n",
    "    if temp.detect_language() != 'en':\n",
    "        frase = TextBlob(str(temp.translate(to='en')))\n",
    "    else:\n",
    "        frase = temp\n",
    "    \n",
    "    polarity = frase.sentiment[0]\n",
    "    sent = 'Neutral'\n",
    "    if polarity >= 0.35:\n",
    "        sent = 'Positive'\n",
    "    elif polarity <= -0.35:\n",
    "        sent = 'Negative'\n",
    "    \n",
    "    return polarity, sent\n",
    "\n",
    "def analyze_tweets(term_to_search, limit=200):\n",
    "    c = twint.Config()\n",
    "    c.Search = term_to_search\n",
    "    c.Limit = limit\n",
    "    c.Pandas = True\n",
    "    with HiddenPrints():\n",
    "        twint.run.Search(c)\n",
    "    df_pd = twint_to_pandas([\"date\", \"username\", \"tweet\", \"hashtags\", \"nlikes\"])\n",
    "    return df_pd\n",
    "\n",
    "\n",
    "\n",
    "def extract_knowledge(data, startwords, n_words=4, n_sentences=10):\n",
    "    ecc = nlp.CollectiveKnowledgeExtractor('portuguese')\n",
    "\n",
    "    tweets = ''\n",
    "    for text in data['tweet']:\n",
    "        tweets += text + '. '\n",
    "\n",
    "    in_wd = ecc.aux_preprocess(startwords)\n",
    "    try:\n",
    "        selected_sentences = ecc.full_extraction(tweets, n_words, n_sentences, in_wd)\n",
    "        return selected_sentences\n",
    "    except:\n",
    "        return None"
   ]
  },
  {
   "cell_type": "code",
   "execution_count": 16,
   "metadata": {},
   "outputs": [
    {
     "output_type": "execute_result",
     "data": {
      "text/html": "<div>\n<style scoped>\n    .dataframe tbody tr th:only-of-type {\n        vertical-align: middle;\n    }\n\n    .dataframe tbody tr th {\n        vertical-align: top;\n    }\n\n    .dataframe thead th {\n        text-align: right;\n    }\n</style>\n<table border=\"1\" class=\"dataframe\">\n  <thead>\n    <tr style=\"text-align: right;\">\n      <th></th>\n      <th>date</th>\n      <th>username</th>\n      <th>tweet</th>\n      <th>hashtags</th>\n      <th>nlikes</th>\n    </tr>\n  </thead>\n  <tbody>\n    <tr>\n      <th>0</th>\n      <td>2021-07-04 22:06:01</td>\n      <td>Chantecler</td>\n      <td>@CNNBrasil Eduardo Paes não tem credibilidade ...</td>\n      <td>[]</td>\n      <td>0</td>\n    </tr>\n    <tr>\n      <th>1</th>\n      <td>2021-07-04 22:06:01</td>\n      <td>olavombarros</td>\n      <td>@Sihdney @jairbolsonaro Vc devia tomar vergonh...</td>\n      <td>[]</td>\n      <td>0</td>\n    </tr>\n    <tr>\n      <th>2</th>\n      <td>2021-07-04 22:06:01</td>\n      <td>Igor_Prezado</td>\n      <td>@jairbolsonaro #BolsonaroAte2026 🇧🇷  Vai ter v...</td>\n      <td>[bolsonaroate2026]</td>\n      <td>0</td>\n    </tr>\n    <tr>\n      <th>3</th>\n      <td>2021-07-04 22:06:00</td>\n      <td>Jocenilda1</td>\n      <td>@Lfmacielmg Bolsonaro carrega mundo a fora o t...</td>\n      <td>[ladraodevacina]</td>\n      <td>0</td>\n    </tr>\n    <tr>\n      <th>4</th>\n      <td>2021-07-04 22:06:00</td>\n      <td>lelemmk</td>\n      <td>@afroputoo @jairbolsonaro sabe o que é ironia ...</td>\n      <td>[]</td>\n      <td>0</td>\n    </tr>\n    <tr>\n      <th>...</th>\n      <td>...</td>\n      <td>...</td>\n      <td>...</td>\n      <td>...</td>\n      <td>...</td>\n    </tr>\n    <tr>\n      <th>9995</th>\n      <td>2021-07-04 19:53:29</td>\n      <td>FelipeRamosSil6</td>\n      <td>@Debora57705883 @ttskaue @Jotacesse @re_doming...</td>\n      <td>[]</td>\n      <td>0</td>\n    </tr>\n    <tr>\n      <th>9996</th>\n      <td>2021-07-04 19:53:27</td>\n      <td>Povodemerda5</td>\n      <td>BOLSONARO É ASSASSINO  , GENOCÍDA E CORRRUPTO ...</td>\n      <td>[ladraodevacina, forabol卐onarogenocida, bolson...</td>\n      <td>0</td>\n    </tr>\n    <tr>\n      <th>9997</th>\n      <td>2021-07-04 19:53:26</td>\n      <td>foursurvivors</td>\n      <td>O povo sai nas ruas  Fora Bolsonaro  Fora Geno...</td>\n      <td>[forabolsonaro, forabolsonarogenocida, 3jforab...</td>\n      <td>0</td>\n    </tr>\n    <tr>\n      <th>9998</th>\n      <td>2021-07-04 19:53:25</td>\n      <td>Alvesalces</td>\n      <td>@PaulaKharine @KingAbdullahII @QueenRania @sos...</td>\n      <td>[]</td>\n      <td>0</td>\n    </tr>\n    <tr>\n      <th>9999</th>\n      <td>2021-07-04 19:53:24</td>\n      <td>neuzaortiz</td>\n      <td>Lula e Bolsonaro nunca mais. Traídores do povo...</td>\n      <td>[]</td>\n      <td>22</td>\n    </tr>\n  </tbody>\n</table>\n<p>10000 rows × 5 columns</p>\n</div>",
      "text/plain": [
       "                     date         username  \\\n",
       "0     2021-07-04 22:06:01       Chantecler   \n",
       "1     2021-07-04 22:06:01     olavombarros   \n",
       "2     2021-07-04 22:06:01     Igor_Prezado   \n",
       "3     2021-07-04 22:06:00       Jocenilda1   \n",
       "4     2021-07-04 22:06:00          lelemmk   \n",
       "...                   ...              ...   \n",
       "9995  2021-07-04 19:53:29  FelipeRamosSil6   \n",
       "9996  2021-07-04 19:53:27     Povodemerda5   \n",
       "9997  2021-07-04 19:53:26    foursurvivors   \n",
       "9998  2021-07-04 19:53:25       Alvesalces   \n",
       "9999  2021-07-04 19:53:24       neuzaortiz   \n",
       "\n",
       "                                                  tweet  \\\n",
       "0     @CNNBrasil Eduardo Paes não tem credibilidade ...   \n",
       "1     @Sihdney @jairbolsonaro Vc devia tomar vergonh...   \n",
       "2     @jairbolsonaro #BolsonaroAte2026 🇧🇷  Vai ter v...   \n",
       "3     @Lfmacielmg Bolsonaro carrega mundo a fora o t...   \n",
       "4     @afroputoo @jairbolsonaro sabe o que é ironia ...   \n",
       "...                                                 ...   \n",
       "9995  @Debora57705883 @ttskaue @Jotacesse @re_doming...   \n",
       "9996  BOLSONARO É ASSASSINO  , GENOCÍDA E CORRRUPTO ...   \n",
       "9997  O povo sai nas ruas  Fora Bolsonaro  Fora Geno...   \n",
       "9998  @PaulaKharine @KingAbdullahII @QueenRania @sos...   \n",
       "9999  Lula e Bolsonaro nunca mais. Traídores do povo...   \n",
       "\n",
       "                                               hashtags  nlikes  \n",
       "0                                                    []       0  \n",
       "1                                                    []       0  \n",
       "2                                    [bolsonaroate2026]       0  \n",
       "3                                      [ladraodevacina]       0  \n",
       "4                                                    []       0  \n",
       "...                                                 ...     ...  \n",
       "9995                                                 []       0  \n",
       "9996  [ladraodevacina, forabol卐onarogenocida, bolson...       0  \n",
       "9997  [forabolsonaro, forabolsonarogenocida, 3jforab...       0  \n",
       "9998                                                 []       0  \n",
       "9999                                                 []      22  \n",
       "\n",
       "[10000 rows x 5 columns]"
      ]
     },
     "metadata": {},
     "execution_count": 16
    }
   ],
   "source": [
    "tw_df = analyze_tweets('bolsonaro', limit=10000)\n",
    "\n",
    "tw_df"
   ]
  },
  {
   "cell_type": "code",
   "execution_count": 17,
   "metadata": {},
   "outputs": [],
   "source": [
    "selected_sentences = extract_knowledge(tw_df, ['impeachment', 'genocida', 'manifestação'], n_words=2, n_sentences=40)"
   ]
  },
  {
   "cell_type": "code",
   "execution_count": 31,
   "metadata": {},
   "outputs": [
    {
     "output_type": "execute_result",
     "data": {
      "text/plain": [
       "['@jairbolsonaro @henriquelorezo Se fosse uma manifestação descente ninguém seria atingido.',\n",
       " 'Às ruas foram tomadas por milhares de manifestantes pedindo o impeachment do atual presidente genocida!',\n",
       " '@jairbolsonaro Bozo genocida !!!!',\n",
       " '@freire_roberto Bolsonaro é um ladrão genocida.. @senadorhumberto Por que vcs nao apuram a corrupção e também a corrupção do governo bolsonaro?']"
      ]
     },
     "metadata": {},
     "execution_count": 31
    }
   ],
   "source": [
    "random.sample(select_sentences, k=4)"
   ]
  },
  {
   "cell_type": "code",
   "execution_count": 32,
   "metadata": {},
   "outputs": [
    {
     "output_type": "stream",
     "name": "stdout",
     "text": [
      "(0.48828125, 'Positive')\n",
      "Eu acho engraçado quando eu vejo uma pessoa com a camisa do che guevara, gritando Bolsonaro genocida.. @taliriapetrone @marinairisvoz @TeresaCristina IMPEACHMENT URGENTE!!!\n",
      "(0.39285714285714285, 'Positive')\n",
      "Em partes o Lula não quer que tenha impeachment do bolsonaro né, pq ele sabe que se o Bolsonaro sair e não disputar as eleições, as chances de dar um Ciro ou outro são maiores.\n",
      "(0.5, 'Positive')\n",
      "@jairbolsonaro mais de 520 mil mortes de brasileiros inocentes e tu seu VERME GENOCIDA MALDITO debochando teu lugar e da tua família e tua quadrilha vai ser na CADEIA NA SELA MAIS IMUNDA  #LadrãodeVacina.\n",
      "(0.5, 'Positive')\n",
      "@jairbolsonaro mais de 520 mil mortes de brasileiros inocentes e tu seu VERME GENOCIDA MALDITO debochando teu lugar e da tua família e tua quadrilha vai ser na CADEIA NA SELA MAIS IMUNDA  #LadrãodeVacina.\n",
      "(-0.5, 'Negative')\n",
      "Imaginem que os caras que cansaram de xingar Bolsonaro de genocida dizendo que ele não queria vacinas, agora o chamam de ladrão de vacinas como se fosse maníaco por vacinas!\n",
      "(-0.625, 'Negative')\n",
      "Só não tem coragem de admitir pois sabe que ele não passa de um canalha, genocida e corrupto!\n",
      "(-0.6, 'Negative')\n",
      "É muita burrice.. @jairbolsonaro Chamam isso de manifestação?\n",
      "(-0.5, 'Negative')\n",
      "Só Bolsonaro, de resto ninguém falando dessa manifestação violenta que quebrou e tocou o terror!\n",
      "(-0.4, 'Negative')\n",
      "Mas a preocupação dele é com as vidraças quebradas na manifestação.\n",
      "(-0.5, 'Negative')\n",
      "@marlonsaul_ @Metropoles @jairbolsonaro É triste que a segurança seja meu maior medo cobrindo uma manifestação.\n",
      "(0.7, 'Positive')\n",
      "Até agora aguardando pra ver se o #Fantástico vai passar a matéria da aglomeração e vandalismo ontem na cidade de São Paulo   Olhando a mídia ignorar a \"manifestação do bem\" da #EsquerdaCriminosa @alertario24hrs #GloboLixo @jairbolsonaro #Fantástico #GloboNews  https://t.co/Gzs1i3FgVm.\n",
      "(1.0, 'Positive')\n",
      "sobre a manifestação do dia 3  Ato incrível!!!\n",
      "(0.44727272727272727, 'Positive')\n",
      "@OGloboPolitica @jairbolsonaro conflito pontual é o novo \"marido errático\".. as fotos do protesto de ontem (03 de julho) foi animal a experiência de fotografar a manifestação, vou deixar aqui algumas que eu gostei mais, mas espero que gostem, espero ter feito jus ao ato.\n",
      "(0.55, 'Positive')\n",
      "bom demais saber que o fiofó do Bolsonaro tá com as prega lisa essa hora de domingo.\n",
      "(-0.5, 'Negative')\n",
      "@marlonsaul_ @Metropoles @jairbolsonaro É triste que a segurança seja meu maior medo cobrindo uma manifestação.\n"
     ]
    }
   ],
   "source": [
    "for sentence in selected_sentences:\n",
    "    time.sleep(1)\n",
    "    sent = apply_blob(sentence)\n",
    "    if sent[1] != 'Neutral':\n",
    "        print(sent)\n",
    "        print(sentence)"
   ]
  }
 ]
}